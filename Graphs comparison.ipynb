{
 "cells": [
  {
   "cell_type": "code",
   "execution_count": 1,
   "id": "ec528364",
   "metadata": {},
   "outputs": [],
   "source": [
    "from PIL import Image\n",
    "\n",
    "image_files = ['graphs4/r_acc vs time (t_acc variation).png', 'graphs8/r_acc vs time (t_acc variation).png']\n",
    "#image_files = []\n",
    "\n",
    "images = [Image.open(img) for img in image_files]\n",
    "\n",
    "total_width = sum(img.width for img in images)\n",
    "max_height = max(img.height for img in images)\n",
    "\n",
    "combined_image = Image.new('RGB', (total_width, max_height))\n",
    "\n",
    "x_offset = 0\n",
    "for img in images:\n",
    "    combined_image.paste(img, (x_offset, 0))\n",
    "    x_offset += img.width\n",
    "\n",
    "combined_image.save('r_acc_confront.png')\n",
    "#combined_image.show()"
   ]
  }
 ],
 "metadata": {
  "kernelspec": {
   "display_name": "Anaconda3 - 2021.11",
   "language": "python",
   "name": "python3-2021.11"
  },
  "language_info": {
   "codemirror_mode": {
    "name": "ipython",
    "version": 3
   },
   "file_extension": ".py",
   "mimetype": "text/x-python",
   "name": "python",
   "nbconvert_exporter": "python",
   "pygments_lexer": "ipython3",
   "version": "3.9.7"
  }
 },
 "nbformat": 4,
 "nbformat_minor": 5
}
